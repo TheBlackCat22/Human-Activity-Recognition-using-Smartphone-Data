{
  "cells": [
    {
      "cell_type": "markdown",
      "metadata": {
        "id": "7oeKgsrudbpo"
      },
      "source": [
        "# Imports"
      ]
    },
    {
      "cell_type": "code",
      "execution_count": 1,
      "metadata": {
        "id": "zJUHwGkkeyg9"
      },
      "outputs": [],
      "source": [
        "import numpy as np\n",
        "import pandas as pd\n",
        "import matplotlib.pyplot as plt\n",
        "import seaborn as sns\n",
        "import plotly.express as px\n",
        "\n",
        "from sklearn.model_selection import GridSearchCV\n",
        "from sklearn.metrics import classification_report, accuracy_score"
      ]
    },
    {
      "cell_type": "markdown",
      "metadata": {
        "id": "ybwRLIYyqJs1"
      },
      "source": [
        "# Reading in Our Data"
      ]
    },
    {
      "cell_type": "code",
      "execution_count": 5,
      "metadata": {
        "colab": {
          "base_uri": "https://localhost:8080/"
        },
        "id": "qSI9MBBFfeax",
        "outputId": "913f8a0c-7ed4-4d01-fd57-3f6a7600fb19"
      },
      "outputs": [
        {
          "name": "stdout",
          "output_type": "stream",
          "text": [
            "(8239, 562) (8239, 1) (2060, 562)\n"
          ]
        }
      ],
      "source": [
        "X=pd.read_csv(r\"Data\\train_data.csv\",index_col=0)\n",
        "y=pd.read_csv(r\"Data\\train_labels.csv\",index_col=0)\n",
        "X_submit=pd.read_csv(r\"Data\\test_data.csv\",index_col=0)\n",
        "print(X.shape,y.shape,X_submit.shape)"
      ]
    },
    {
      "cell_type": "code",
      "execution_count": 3,
      "metadata": {
        "colab": {
          "base_uri": "https://localhost:8080/",
          "height": 317
        },
        "id": "dLe0cfDojV1k",
        "outputId": "86838c78-5f08-4f4c-da33-bb92af3cd6f5"
      },
      "outputs": [
        {
          "data": {
            "text/html": [
              "<div>\n",
              "<style scoped>\n",
              "    .dataframe tbody tr th:only-of-type {\n",
              "        vertical-align: middle;\n",
              "    }\n",
              "\n",
              "    .dataframe tbody tr th {\n",
              "        vertical-align: top;\n",
              "    }\n",
              "\n",
              "    .dataframe thead th {\n",
              "        text-align: right;\n",
              "    }\n",
              "</style>\n",
              "<table border=\"1\" class=\"dataframe\">\n",
              "  <thead>\n",
              "    <tr style=\"text-align: right;\">\n",
              "      <th></th>\n",
              "      <th>tBodyAcc-mean()-X</th>\n",
              "      <th>tBodyAcc-mean()-Y</th>\n",
              "      <th>tBodyAcc-mean()-Z</th>\n",
              "      <th>tBodyAcc-std()-X</th>\n",
              "      <th>tBodyAcc-std()-Y</th>\n",
              "      <th>tBodyAcc-std()-Z</th>\n",
              "      <th>tBodyAcc-mad()-X</th>\n",
              "      <th>tBodyAcc-mad()-Y</th>\n",
              "      <th>tBodyAcc-mad()-Z</th>\n",
              "      <th>tBodyAcc-max()-X</th>\n",
              "      <th>...</th>\n",
              "      <th>fBodyBodyGyroJerkMag-skewness()</th>\n",
              "      <th>fBodyBodyGyroJerkMag-kurtosis()</th>\n",
              "      <th>angle(tBodyAccMean,gravity)</th>\n",
              "      <th>angle(tBodyAccJerkMean),gravityMean)</th>\n",
              "      <th>angle(tBodyGyroMean,gravityMean)</th>\n",
              "      <th>angle(tBodyGyroJerkMean,gravityMean)</th>\n",
              "      <th>angle(X,gravityMean)</th>\n",
              "      <th>angle(Y,gravityMean)</th>\n",
              "      <th>angle(Z,gravityMean)</th>\n",
              "      <th>subject</th>\n",
              "    </tr>\n",
              "  </thead>\n",
              "  <tbody>\n",
              "    <tr>\n",
              "      <th>356</th>\n",
              "      <td>0.286433</td>\n",
              "      <td>-0.023843</td>\n",
              "      <td>-0.122738</td>\n",
              "      <td>-0.915584</td>\n",
              "      <td>-0.710794</td>\n",
              "      <td>-0.880226</td>\n",
              "      <td>-0.932429</td>\n",
              "      <td>-0.720314</td>\n",
              "      <td>-0.881657</td>\n",
              "      <td>-0.789914</td>\n",
              "      <td>...</td>\n",
              "      <td>-0.357772</td>\n",
              "      <td>-0.752582</td>\n",
              "      <td>-0.217502</td>\n",
              "      <td>0.229826</td>\n",
              "      <td>0.154791</td>\n",
              "      <td>-0.431134</td>\n",
              "      <td>-0.761361</td>\n",
              "      <td>0.250580</td>\n",
              "      <td>-0.046895</td>\n",
              "      <td>3</td>\n",
              "    </tr>\n",
              "    <tr>\n",
              "      <th>4482</th>\n",
              "      <td>0.333258</td>\n",
              "      <td>-0.001307</td>\n",
              "      <td>-0.166581</td>\n",
              "      <td>-0.034498</td>\n",
              "      <td>-0.062471</td>\n",
              "      <td>-0.283268</td>\n",
              "      <td>-0.059698</td>\n",
              "      <td>-0.174912</td>\n",
              "      <td>-0.338661</td>\n",
              "      <td>0.283234</td>\n",
              "      <td>...</td>\n",
              "      <td>0.308324</td>\n",
              "      <td>0.048713</td>\n",
              "      <td>-0.191360</td>\n",
              "      <td>-0.580316</td>\n",
              "      <td>-0.423810</td>\n",
              "      <td>0.689597</td>\n",
              "      <td>-0.765469</td>\n",
              "      <td>0.237371</td>\n",
              "      <td>-0.067771</td>\n",
              "      <td>22</td>\n",
              "    </tr>\n",
              "    <tr>\n",
              "      <th>10012</th>\n",
              "      <td>0.266797</td>\n",
              "      <td>-0.018683</td>\n",
              "      <td>-0.101142</td>\n",
              "      <td>-0.990874</td>\n",
              "      <td>-0.989001</td>\n",
              "      <td>-0.987255</td>\n",
              "      <td>-0.991659</td>\n",
              "      <td>-0.987859</td>\n",
              "      <td>-0.985430</td>\n",
              "      <td>-0.936624</td>\n",
              "      <td>...</td>\n",
              "      <td>-0.388442</td>\n",
              "      <td>-0.703577</td>\n",
              "      <td>-0.152601</td>\n",
              "      <td>0.162091</td>\n",
              "      <td>-0.628052</td>\n",
              "      <td>0.551795</td>\n",
              "      <td>0.587768</td>\n",
              "      <td>-0.536508</td>\n",
              "      <td>-0.469193</td>\n",
              "      <td>24</td>\n",
              "    </tr>\n",
              "    <tr>\n",
              "      <th>4386</th>\n",
              "      <td>0.276363</td>\n",
              "      <td>-0.020289</td>\n",
              "      <td>-0.113701</td>\n",
              "      <td>-0.995733</td>\n",
              "      <td>-0.939094</td>\n",
              "      <td>-0.984418</td>\n",
              "      <td>-0.997013</td>\n",
              "      <td>-0.936180</td>\n",
              "      <td>-0.983728</td>\n",
              "      <td>-0.938433</td>\n",
              "      <td>...</td>\n",
              "      <td>0.054212</td>\n",
              "      <td>-0.430753</td>\n",
              "      <td>0.029986</td>\n",
              "      <td>-0.094248</td>\n",
              "      <td>0.025219</td>\n",
              "      <td>-0.408070</td>\n",
              "      <td>-0.819227</td>\n",
              "      <td>0.213794</td>\n",
              "      <td>-0.031301</td>\n",
              "      <td>22</td>\n",
              "    </tr>\n",
              "    <tr>\n",
              "      <th>3751</th>\n",
              "      <td>0.268231</td>\n",
              "      <td>-0.004146</td>\n",
              "      <td>-0.094503</td>\n",
              "      <td>0.473123</td>\n",
              "      <td>0.452403</td>\n",
              "      <td>-0.152600</td>\n",
              "      <td>0.450082</td>\n",
              "      <td>0.482764</td>\n",
              "      <td>-0.239383</td>\n",
              "      <td>0.539911</td>\n",
              "      <td>...</td>\n",
              "      <td>-0.139639</td>\n",
              "      <td>-0.558550</td>\n",
              "      <td>0.278372</td>\n",
              "      <td>0.363240</td>\n",
              "      <td>0.885432</td>\n",
              "      <td>0.848414</td>\n",
              "      <td>-0.779760</td>\n",
              "      <td>0.249384</td>\n",
              "      <td>0.035484</td>\n",
              "      <td>19</td>\n",
              "    </tr>\n",
              "  </tbody>\n",
              "</table>\n",
              "<p>5 rows × 562 columns</p>\n",
              "</div>"
            ],
            "text/plain": [
              "       tBodyAcc-mean()-X  tBodyAcc-mean()-Y  tBodyAcc-mean()-Z  \\\n",
              "356             0.286433          -0.023843          -0.122738   \n",
              "4482            0.333258          -0.001307          -0.166581   \n",
              "10012           0.266797          -0.018683          -0.101142   \n",
              "4386            0.276363          -0.020289          -0.113701   \n",
              "3751            0.268231          -0.004146          -0.094503   \n",
              "\n",
              "       tBodyAcc-std()-X  tBodyAcc-std()-Y  tBodyAcc-std()-Z  tBodyAcc-mad()-X  \\\n",
              "356           -0.915584         -0.710794         -0.880226         -0.932429   \n",
              "4482          -0.034498         -0.062471         -0.283268         -0.059698   \n",
              "10012         -0.990874         -0.989001         -0.987255         -0.991659   \n",
              "4386          -0.995733         -0.939094         -0.984418         -0.997013   \n",
              "3751           0.473123          0.452403         -0.152600          0.450082   \n",
              "\n",
              "       tBodyAcc-mad()-Y  tBodyAcc-mad()-Z  tBodyAcc-max()-X  ...  \\\n",
              "356           -0.720314         -0.881657         -0.789914  ...   \n",
              "4482          -0.174912         -0.338661          0.283234  ...   \n",
              "10012         -0.987859         -0.985430         -0.936624  ...   \n",
              "4386          -0.936180         -0.983728         -0.938433  ...   \n",
              "3751           0.482764         -0.239383          0.539911  ...   \n",
              "\n",
              "       fBodyBodyGyroJerkMag-skewness()  fBodyBodyGyroJerkMag-kurtosis()  \\\n",
              "356                          -0.357772                        -0.752582   \n",
              "4482                          0.308324                         0.048713   \n",
              "10012                        -0.388442                        -0.703577   \n",
              "4386                          0.054212                        -0.430753   \n",
              "3751                         -0.139639                        -0.558550   \n",
              "\n",
              "       angle(tBodyAccMean,gravity)  angle(tBodyAccJerkMean),gravityMean)  \\\n",
              "356                      -0.217502                              0.229826   \n",
              "4482                     -0.191360                             -0.580316   \n",
              "10012                    -0.152601                              0.162091   \n",
              "4386                      0.029986                             -0.094248   \n",
              "3751                      0.278372                              0.363240   \n",
              "\n",
              "       angle(tBodyGyroMean,gravityMean)  angle(tBodyGyroJerkMean,gravityMean)  \\\n",
              "356                            0.154791                             -0.431134   \n",
              "4482                          -0.423810                              0.689597   \n",
              "10012                         -0.628052                              0.551795   \n",
              "4386                           0.025219                             -0.408070   \n",
              "3751                           0.885432                              0.848414   \n",
              "\n",
              "       angle(X,gravityMean)  angle(Y,gravityMean)  angle(Z,gravityMean)  \\\n",
              "356               -0.761361              0.250580             -0.046895   \n",
              "4482              -0.765469              0.237371             -0.067771   \n",
              "10012              0.587768             -0.536508             -0.469193   \n",
              "4386              -0.819227              0.213794             -0.031301   \n",
              "3751              -0.779760              0.249384              0.035484   \n",
              "\n",
              "       subject  \n",
              "356          3  \n",
              "4482        22  \n",
              "10012       24  \n",
              "4386        22  \n",
              "3751        19  \n",
              "\n",
              "[5 rows x 562 columns]"
            ]
          },
          "execution_count": 3,
          "metadata": {},
          "output_type": "execute_result"
        }
      ],
      "source": [
        "X.head()"
      ]
    },
    {
      "cell_type": "code",
      "execution_count": 4,
      "metadata": {
        "colab": {
          "base_uri": "https://localhost:8080/",
          "height": 206
        },
        "id": "hCJl1-asjgyI",
        "outputId": "653e171a-f6b2-4005-c9e3-33b59ae6b286"
      },
      "outputs": [
        {
          "data": {
            "text/html": [
              "<div>\n",
              "<style scoped>\n",
              "    .dataframe tbody tr th:only-of-type {\n",
              "        vertical-align: middle;\n",
              "    }\n",
              "\n",
              "    .dataframe tbody tr th {\n",
              "        vertical-align: top;\n",
              "    }\n",
              "\n",
              "    .dataframe thead th {\n",
              "        text-align: right;\n",
              "    }\n",
              "</style>\n",
              "<table border=\"1\" class=\"dataframe\">\n",
              "  <thead>\n",
              "    <tr style=\"text-align: right;\">\n",
              "      <th></th>\n",
              "      <th>Activity</th>\n",
              "    </tr>\n",
              "  </thead>\n",
              "  <tbody>\n",
              "    <tr>\n",
              "      <th>356</th>\n",
              "      <td>STANDING</td>\n",
              "    </tr>\n",
              "    <tr>\n",
              "      <th>4482</th>\n",
              "      <td>WALKING</td>\n",
              "    </tr>\n",
              "    <tr>\n",
              "      <th>10012</th>\n",
              "      <td>LAYING</td>\n",
              "    </tr>\n",
              "    <tr>\n",
              "      <th>4386</th>\n",
              "      <td>STANDING</td>\n",
              "    </tr>\n",
              "    <tr>\n",
              "      <th>3751</th>\n",
              "      <td>WALKING_DOWNSTAIRS</td>\n",
              "    </tr>\n",
              "  </tbody>\n",
              "</table>\n",
              "</div>"
            ],
            "text/plain": [
              "                 Activity\n",
              "356              STANDING\n",
              "4482              WALKING\n",
              "10012              LAYING\n",
              "4386             STANDING\n",
              "3751   WALKING_DOWNSTAIRS"
            ]
          },
          "execution_count": 4,
          "metadata": {},
          "output_type": "execute_result"
        }
      ],
      "source": [
        "y.head()"
      ]
    },
    {
      "cell_type": "code",
      "execution_count": 5,
      "metadata": {
        "colab": {
          "base_uri": "https://localhost:8080/"
        },
        "id": "UxRGPj_KCyID",
        "outputId": "3a65451d-054c-4ec1-8c27-010e100a2559"
      },
      "outputs": [
        {
          "data": {
            "text/plain": [
              "array(['STANDING', 'WALKING', 'LAYING', 'WALKING_DOWNSTAIRS', 'SITTING',\n",
              "       'WALKING_UPSTAIRS'], dtype=object)"
            ]
          },
          "execution_count": 5,
          "metadata": {},
          "output_type": "execute_result"
        }
      ],
      "source": [
        "y[\"Activity\"].unique()"
      ]
    },
    {
      "cell_type": "code",
      "execution_count": 6,
      "metadata": {
        "colab": {
          "base_uri": "https://localhost:8080/",
          "height": 206
        },
        "id": "AY_kQpI6CAd3",
        "outputId": "5c2487e9-7a3b-480f-c2f8-0d9f5d291fa9"
      },
      "outputs": [
        {
          "data": {
            "text/html": [
              "<div>\n",
              "<style scoped>\n",
              "    .dataframe tbody tr th:only-of-type {\n",
              "        vertical-align: middle;\n",
              "    }\n",
              "\n",
              "    .dataframe tbody tr th {\n",
              "        vertical-align: top;\n",
              "    }\n",
              "\n",
              "    .dataframe thead th {\n",
              "        text-align: right;\n",
              "    }\n",
              "</style>\n",
              "<table border=\"1\" class=\"dataframe\">\n",
              "  <thead>\n",
              "    <tr style=\"text-align: right;\">\n",
              "      <th></th>\n",
              "      <th>Activity</th>\n",
              "    </tr>\n",
              "  </thead>\n",
              "  <tbody>\n",
              "    <tr>\n",
              "      <th>356</th>\n",
              "      <td>1</td>\n",
              "    </tr>\n",
              "    <tr>\n",
              "      <th>4482</th>\n",
              "      <td>2</td>\n",
              "    </tr>\n",
              "    <tr>\n",
              "      <th>10012</th>\n",
              "      <td>3</td>\n",
              "    </tr>\n",
              "    <tr>\n",
              "      <th>4386</th>\n",
              "      <td>1</td>\n",
              "    </tr>\n",
              "    <tr>\n",
              "      <th>3751</th>\n",
              "      <td>4</td>\n",
              "    </tr>\n",
              "  </tbody>\n",
              "</table>\n",
              "</div>"
            ],
            "text/plain": [
              "       Activity\n",
              "356           1\n",
              "4482          2\n",
              "10012         3\n",
              "4386          1\n",
              "3751          4"
            ]
          },
          "execution_count": 6,
          "metadata": {},
          "output_type": "execute_result"
        }
      ],
      "source": [
        "y_numeric=y.replace(['STANDING', 'WALKING', 'LAYING', 'WALKING_DOWNSTAIRS', 'SITTING','WALKING_UPSTAIRS'],[1,2,3,4,5,6])\n",
        "y_numeric.head()"
      ]
    },
    {
      "cell_type": "code",
      "execution_count": 7,
      "metadata": {
        "colab": {
          "base_uri": "https://localhost:8080/"
        },
        "id": "RXB67wMjvZn3",
        "outputId": "00969ab6-7f31-4f61-bb79-673220cc77c7"
      },
      "outputs": [
        {
          "data": {
            "text/plain": [
              "False"
            ]
          },
          "execution_count": 7,
          "metadata": {},
          "output_type": "execute_result"
        }
      ],
      "source": [
        "X.isna().any(axis=None)"
      ]
    },
    {
      "cell_type": "markdown",
      "metadata": {
        "id": "PC6taiFscm9_"
      },
      "source": [
        "# Exploratory Data Analysis"
      ]
    },
    {
      "cell_type": "code",
      "execution_count": 8,
      "metadata": {
        "colab": {
          "base_uri": "https://localhost:8080/",
          "height": 377
        },
        "id": "nBIJ_Q3t7n7L",
        "outputId": "84a9d461-bf01-4991-b28d-161a4a8b97ef"
      },
      "outputs": [
        {
          "data": {
            "image/png": "[encoded data removed]",
            "text/plain": [
              "<Figure size 432x288 with 1 Axes>"
            ]
          },
          "metadata": {
            "needs_background": "light"
          },
          "output_type": "display_data"
        }
      ],
      "source": [
        "#Plot activity freq\n",
        "plt.title(\"Activity Frequency in Train Data\")\n",
        "sns.countplot(x=y.Activity)\n",
        "plt.xticks(rotation=45)\n",
        "plt.show()"
      ]
    },
    {
      "cell_type": "markdown",
      "metadata": {
        "id": "3p01MegrA0xF"
      },
      "source": [
        "We observe that the all activities have comparable frequencies"
      ]
    },
    {
      "cell_type": "code",
      "execution_count": 9,
      "metadata": {
        "colab": {
          "base_uri": "https://localhost:8080/",
          "height": 518
        },
        "id": "vo26xOhv_NYz",
        "outputId": "824419eb-a8cf-41d4-c977-a1d093ac53ce"
      },
      "outputs": [
        {
          "data": {
            "image/png": "[encoded data removed]",
            "text/plain": [
              "<Figure size 1296x576 with 1 Axes>"
            ]
          },
          "metadata": {
            "needs_background": "light"
          },
          "output_type": "display_data"
        }
      ],
      "source": [
        "#Distribution of different types of activity data provided by each subject\n",
        "plt.figure(figsize=(18,8))\n",
        "plt.title('Data provided by each user', fontsize=20)\n",
        "sns.countplot(x=X.subject, hue=y.Activity)\n",
        "plt.show()"
      ]
    },
    {
      "cell_type": "markdown",
      "metadata": {
        "id": "dhiWNDayAqyd"
      },
      "source": [
        "We can see that the readings are pretty uniform across all 30 subjects"
      ]
    },
    {
      "cell_type": "code",
      "execution_count": 10,
      "metadata": {
        "colab": {
          "base_uri": "https://localhost:8080/",
          "height": 542
        },
        "id": "5BVEWLrfQaD3",
        "outputId": "ba81b287-f4a5-4357-f0e3-2cf8ba39f4e4"
      },
      "outputs": [
        {
          "data": {
            "application/vnd.plotly.v1+json": {
              "config": {
                "plotlyServerURL": "https://plot.ly"
              },
              "data": [
                {
                  "alignmentgroup": "True",
                  "hovertemplate": "x=%{x}<br>y=%{y}<br>color=%{marker.color}<extra></extra>",
                  "legendgroup": "",
                  "marker": {
                    "color": [
                      345,
                      213,
                      4
                    ],
                    "coloraxis": "coloraxis",
                    "pattern": {
                      "shape": ""
                    }
                  },
                  "name": "",
                  "offsetgroup": "",
                  "orientation": "v",
                  "showlegend": false,
                  "textposition": "auto",
                  "type": "bar",
                  "x": [
                    "Accelerometer ",
                    "Gyroscope ",
                    "other"
                  ],
                  "xaxis": "x",
                  "y": [
                    345,
                    213,
                    4
                  ],
                  "yaxis": "y"
                }
              ],
              "layout": {
                "barmode": "relative",
                "coloraxis": {
                  "colorbar": {
                    "title": {
                      "text": "color"
                    }
                  },
                  "colorscale": [
                    [
                      0,
                      "#0d0887"
                    ],
                    [
                      0.1111111111111111,
                      "#46039f"
                    ],
                    [
                      0.2222222222222222,
                      "#7201a8"
                    ],
                    [
                      0.3333333333333333,
                      "#9c179e"
                    ],
                    [
                      0.4444444444444444,
                      "#bd3786"
                    ],
                    [
                      0.5555555555555556,
                      "#d8576b"
                    ],
                    [
                      0.6666666666666666,
                      "#ed7953"
                    ],
                    [
                      0.7777777777777778,
                      "#fb9f3a"
                    ],
                    [
                      0.8888888888888888,
                      "#fdca26"
                    ],
                    [
                      1,
                      "#f0f921"
                    ]
                  ]
                },
                "legend": {
                  "tracegroupgap": 0
                },
                "margin": {
                  "t": 60
                },
                "template": {
                  "data": {
                    "bar": [
                      {
                        "error_x": {
                          "color": "#2a3f5f"
                        },
                        "error_y": {
                          "color": "#2a3f5f"
                        },
                        "marker": {
                          "line": {
                            "color": "#E5ECF6",
                            "width": 0.5
                          },
                          "pattern": {
                            "fillmode": "overlay",
                            "size": 10,
                            "solidity": 0.2
                          }
                        },
                        "type": "bar"
                      }
                    ],
                    "barpolar": [
                      {
                        "marker": {
                          "line": {
                            "color": "#E5ECF6",
                            "width": 0.5
                          },
                          "pattern": {
                            "fillmode": "overlay",
                            "size": 10,
                            "solidity": 0.2
                          }
                        },
                        "type": "barpolar"
                      }
                    ],
                    "carpet": [
                      {
                        "aaxis": {
                          "endlinecolor": "#2a3f5f",
                          "gridcolor": "white",
                          "linecolor": "white",
                          "minorgridcolor": "white",
                          "startlinecolor": "#2a3f5f"
                        },
                        "baxis": {
                          "endlinecolor": "#2a3f5f",
                          "gridcolor": "white",
                          "linecolor": "white",
                          "minorgridcolor": "white",
                          "startlinecolor": "#2a3f5f"
                        },
                        "type": "carpet"
                      }
                    ],
                    "choropleth": [
                      {
                        "colorbar": {
                          "outlinewidth": 0,
                          "ticks": ""
                        },
                        "type": "choropleth"
                      }
                    ],
                    "contour": [
                      {
                        "colorbar": {
                          "outlinewidth": 0,
                          "ticks": ""
                        },
                        "colorscale": [
                          [
                            0,
                            "#0d0887"
                          ],
                          [
                            0.1111111111111111,
                            "#46039f"
                          ],
                          [
                            0.2222222222222222,
                            "#7201a8"
                          ],
                          [
                            0.3333333333333333,
                            "#9c179e"
                          ],
                          [
                            0.4444444444444444,
                            "#bd3786"
                          ],
                          [
                            0.5555555555555556,
                            "#d8576b"
                          ],
                          [
                            0.6666666666666666,
                            "#ed7953"
                          ],
                          [
                            0.7777777777777778,
                            "#fb9f3a"
                          ],
                          [
                            0.8888888888888888,
                            "#fdca26"
                          ],
                          [
                            1,
                            "#f0f921"
                          ]
                        ],
                        "type": "contour"
                      }
                    ],
                    "contourcarpet": [
                      {
                        "colorbar": {
                          "outlinewidth": 0,
                          "ticks": ""
                        },
                        "type": "contourcarpet"
                      }
                    ],
                    "heatmap": [
                      {
                        "colorbar": {
                          "outlinewidth": 0,
                          "ticks": ""
                        },
                        "colorscale": [
                          [
                            0,
                            "#0d0887"
                          ],
                          [
                            0.1111111111111111,
                            "#46039f"
                          ],
                          [
                            0.2222222222222222,
                            "#7201a8"
                          ],
                          [
                            0.3333333333333333,
                            "#9c179e"
                          ],
                          [
                            0.4444444444444444,
                            "#bd3786"
                          ],
                          [
                            0.5555555555555556,
                            "#d8576b"
                          ],
                          [
                            0.6666666666666666,
                            "#ed7953"
                          ],
                          [
                            0.7777777777777778,
                            "#fb9f3a"
                          ],
                          [
                            0.8888888888888888,
                            "#fdca26"
                          ],
                          [
                            1,
                            "#f0f921"
                          ]
                        ],
                        "type": "heatmap"
                      }
                    ],
                    "heatmapgl": [
                      {
                        "colorbar": {
                          "outlinewidth": 0,
                          "ticks": ""
                        },
                        "colorscale": [
                          [
                            0,
                            "#0d0887"
                          ],
                          [
                            0.1111111111111111,
                            "#46039f"
                          ],
                          [
                            0.2222222222222222,
                            "#7201a8"
                          ],
                          [
                            0.3333333333333333,
                            "#9c179e"
                          ],
                          [
                            0.4444444444444444,
                            "#bd3786"
                          ],
                          [
                            0.5555555555555556,
                            "#d8576b"
                          ],
                          [
                            0.6666666666666666,
                            "#ed7953"
                          ],
                          [
                            0.7777777777777778,
                            "#fb9f3a"
                          ],
                          [
                            0.8888888888888888,
                            "#fdca26"
                          ],
                          [
                            1,
                            "#f0f921"
                          ]
                        ],
                        "type": "heatmapgl"
                      }
                    ],
                    "histogram": [
                      {
                        "marker": {
                          "pattern": {
                            "fillmode": "overlay",
                            "size": 10,
                            "solidity": 0.2
                          }
                        },
                        "type": "histogram"
                      }
                    ],
                    "histogram2d": [
                      {
                        "colorbar": {
                          "outlinewidth": 0,
                          "ticks": ""
                        },
                        "colorscale": [
                          [
                            0,
                            "#0d0887"
                          ],
                          [
                            0.1111111111111111,
                            "#46039f"
                          ],
                          [
                            0.2222222222222222,
                            "#7201a8"
                          ],
                          [
                            0.3333333333333333,
                            "#9c179e"
                          ],
                          [
                            0.4444444444444444,
                            "#bd3786"
                          ],
                          [
                            0.5555555555555556,
                            "#d8576b"
                          ],
                          [
                            0.6666666666666666,
                            "#ed7953"
                          ],
                          [
                            0.7777777777777778,
                            "#fb9f3a"
                          ],
                          [
                            0.8888888888888888,
                            "#fdca26"
                          ],
                          [
                            1,
                            "#f0f921"
                          ]
                        ],
                        "type": "histogram2d"
                      }
                    ],
                    "histogram2dcontour": [
                      {
                        "colorbar": {
                          "outlinewidth": 0,
                          "ticks": ""
                        },
                        "colorscale": [
                          [
                            0,
                            "#0d0887"
                          ],
                          [
                            0.1111111111111111,
                            "#46039f"
                          ],
                          [
                            0.2222222222222222,
                            "#7201a8"
                          ],
                          [
                            0.3333333333333333,
                            "#9c179e"
                          ],
                          [
                            0.4444444444444444,
                            "#bd3786"
                          ],
                          [
                            0.5555555555555556,
                            "#d8576b"
                          ],
                          [
                            0.6666666666666666,
                            "#ed7953"
                          ],
                          [
                            0.7777777777777778,
                            "#fb9f3a"
                          ],
                          [
                            0.8888888888888888,
                            "#fdca26"
                          ],
                          [
                            1,
                            "#f0f921"
                          ]
                        ],
                        "type": "histogram2dcontour"
                      }
                    ],
                    "mesh3d": [
                      {
                        "colorbar": {
                          "outlinewidth": 0,
                          "ticks": ""
                        },
                        "type": "mesh3d"
                      }
                    ],
                    "parcoords": [
                      {
                        "line": {
                          "colorbar": {
                            "outlinewidth": 0,
                            "ticks": ""
                          }
                        },
                        "type": "parcoords"
                      }
                    ],
                    "pie": [
                      {
                        "automargin": true,
                        "type": "pie"
                      }
                    ],
                    "scatter": [
                      {
                        "fillpattern": {
                          "fillmode": "overlay",
                          "size": 10,
                          "solidity": 0.2
                        },
                        "type": "scatter"
                      }
                    ],
                    "scatter3d": [
                      {
                        "line": {
                          "colorbar": {
                            "outlinewidth": 0,
                            "ticks": ""
                          }
                        },
                        "marker": {
                          "colorbar": {
                            "outlinewidth": 0,
                            "ticks": ""
                          }
                        },
                        "type": "scatter3d"
                      }
                    ],
                    "scattercarpet": [
                      {
                        "marker": {
                          "colorbar": {
                            "outlinewidth": 0,
                            "ticks": ""
                          }
                        },
                        "type": "scattercarpet"
                      }
                    ],
                    "scattergeo": [
                      {
                        "marker": {
                          "colorbar": {
                            "outlinewidth": 0,
                            "ticks": ""
                          }
                        },
                        "type": "scattergeo"
                      }
                    ],
                    "scattergl": [
                      {
                        "marker": {
                          "colorbar": {
                            "outlinewidth": 0,
                            "ticks": ""
                          }
                        },
                        "type": "scattergl"
                      }
                    ],
                    "scattermapbox": [
                      {
                        "marker": {
                          "colorbar": {
                            "outlinewidth": 0,
                            "ticks": ""
                          }
                        },
                        "type": "scattermapbox"
                      }
                    ],
                    "scatterpolar": [
                      {
                        "marker": {
                          "colorbar": {
                            "outlinewidth": 0,
                            "ticks": ""
                          }
                        },
                        "type": "scatterpolar"
                      }
                    ],
                    "scatterpolargl": [
                      {
                        "marker": {
                          "colorbar": {
                            "outlinewidth": 0,
                            "ticks": ""
                          }
                        },
                        "type": "scatterpolargl"
                      }
                    ],
                    "scatterternary": [
                      {
                        "marker": {
                          "colorbar": {
                            "outlinewidth": 0,
                            "ticks": ""
                          }
                        },
                        "type": "scatterternary"
                      }
                    ],
                    "surface": [
                      {
                        "colorbar": {
                          "outlinewidth": 0,
                          "ticks": ""
                        },
                        "colorscale": [
                          [
                            0,
                            "#0d0887"
                          ],
                          [
                            0.1111111111111111,
                            "#46039f"
                          ],
                          [
                            0.2222222222222222,
                            "#7201a8"
                          ],
                          [
                            0.3333333333333333,
                            "#9c179e"
                          ],
                          [
                            0.4444444444444444,
                            "#bd3786"
                          ],
                          [
                            0.5555555555555556,
                            "#d8576b"
                          ],
                          [
                            0.6666666666666666,
                            "#ed7953"
                          ],
                          [
                            0.7777777777777778,
                            "#fb9f3a"
                          ],
                          [
                            0.8888888888888888,
                            "#fdca26"
                          ],
                          [
                            1,
                            "#f0f921"
                          ]
                        ],
                        "type": "surface"
                      }
                    ],
                    "table": [
                      {
                        "cells": {
                          "fill": {
                            "color": "#EBF0F8"
                          },
                          "line": {
                            "color": "white"
                          }
                        },
                        "header": {
                          "fill": {
                            "color": "#C8D4E3"
                          },
                          "line": {
                            "color": "white"
                          }
                        },
                        "type": "table"
                      }
                    ]
                  },
                  "layout": {
                    "annotationdefaults": {
                      "arrowcolor": "#2a3f5f",
                      "arrowhead": 0,
                      "arrowwidth": 1
                    },
                    "autotypenumbers": "strict",
                    "coloraxis": {
                      "colorbar": {
                        "outlinewidth": 0,
                        "ticks": ""
                      }
                    },
                    "colorscale": {
                      "diverging": [
                        [
                          0,
                          "#8e0152"
                        ],
                        [
                          0.1,
                          "#c51b7d"
                        ],
                        [
                          0.2,
                          "#de77ae"
                        ],
                        [
                          0.3,
                          "#f1b6da"
                        ],
                        [
                          0.4,
                          "#fde0ef"
                        ],
                        [
                          0.5,
                          "#f7f7f7"
                        ],
                        [
                          0.6,
                          "#e6f5d0"
                        ],
                        [
                          0.7,
                          "#b8e186"
                        ],
                        [
                          0.8,
                          "#7fbc41"
                        ],
                        [
                          0.9,
                          "#4d9221"
                        ],
                        [
                          1,
                          "#276419"
                        ]
                      ],
                      "sequential": [
                        [
                          0,
                          "#0d0887"
                        ],
                        [
                          0.1111111111111111,
                          "#46039f"
                        ],
                        [
                          0.2222222222222222,
                          "#7201a8"
                        ],
                        [
                          0.3333333333333333,
                          "#9c179e"
                        ],
                        [
                          0.4444444444444444,
                          "#bd3786"
                        ],
                        [
                          0.5555555555555556,
                          "#d8576b"
                        ],
                        [
                          0.6666666666666666,
                          "#ed7953"
                        ],
                        [
                          0.7777777777777778,
                          "#fb9f3a"
                        ],
                        [
                          0.8888888888888888,
                          "#fdca26"
                        ],
                        [
                          1,
                          "#f0f921"
                        ]
                      ],
                      "sequentialminus": [
                        [
                          0,
                          "#0d0887"
                        ],
                        [
                          0.1111111111111111,
                          "#46039f"
                        ],
                        [
                          0.2222222222222222,
                          "#7201a8"
                        ],
                        [
                          0.3333333333333333,
                          "#9c179e"
                        ],
                        [
                          0.4444444444444444,
                          "#bd3786"
                        ],
                        [
                          0.5555555555555556,
                          "#d8576b"
                        ],
                        [
                          0.6666666666666666,
                          "#ed7953"
                        ],
                        [
                          0.7777777777777778,
                          "#fb9f3a"
                        ],
                        [
                          0.8888888888888888,
                          "#fdca26"
                        ],
                        [
                          1,
                          "#f0f921"
                        ]
                      ]
                    },
                    "colorway": [
                      "#636efa",
                      "#EF553B",
                      "#00cc96",
                      "#ab63fa",
                      "#FFA15A",
                      "#19d3f3",
                      "#FF6692",
                      "#B6E880",
                      "#FF97FF",
                      "#FECB52"
                    ],
                    "font": {
                      "color": "#2a3f5f"
                    },
                    "geo": {
                      "bgcolor": "white",
                      "lakecolor": "white",
                      "landcolor": "#E5ECF6",
                      "showlakes": true,
                      "showland": true,
                      "subunitcolor": "white"
                    },
                    "hoverlabel": {
                      "align": "left"
                    },
                    "hovermode": "closest",
                    "mapbox": {
                      "style": "light"
                    },
                    "paper_bgcolor": "white",
                    "plot_bgcolor": "#E5ECF6",
                    "polar": {
                      "angularaxis": {
                        "gridcolor": "white",
                        "linecolor": "white",
                        "ticks": ""
                      },
                      "bgcolor": "#E5ECF6",
                      "radialaxis": {
                        "gridcolor": "white",
                        "linecolor": "white",
                        "ticks": ""
                      }
                    },
                    "scene": {
                      "xaxis": {
                        "backgroundcolor": "#E5ECF6",
                        "gridcolor": "white",
                        "gridwidth": 2,
                        "linecolor": "white",
                        "showbackground": true,
                        "ticks": "",
                        "zerolinecolor": "white"
                      },
                      "yaxis": {
                        "backgroundcolor": "#E5ECF6",
                        "gridcolor": "white",
                        "gridwidth": 2,
                        "linecolor": "white",
                        "showbackground": true,
                        "ticks": "",
                        "zerolinecolor": "white"
                      },
                      "zaxis": {
                        "backgroundcolor": "#E5ECF6",
                        "gridcolor": "white",
                        "gridwidth": 2,
                        "linecolor": "white",
                        "showbackground": true,
                        "ticks": "",
                        "zerolinecolor": "white"
                      }
                    },
                    "shapedefaults": {
                      "line": {
                        "color": "#2a3f5f"
                      }
                    },
                    "ternary": {
                      "aaxis": {
                        "gridcolor": "white",
                        "linecolor": "white",
                        "ticks": ""
                      },
                      "baxis": {
                        "gridcolor": "white",
                        "linecolor": "white",
                        "ticks": ""
                      },
                      "bgcolor": "#E5ECF6",
                      "caxis": {
                        "gridcolor": "white",
                        "linecolor": "white",
                        "ticks": ""
                      }
                    },
                    "title": {
                      "x": 0.05
                    },
                    "xaxis": {
                      "automargin": true,
                      "gridcolor": "white",
                      "linecolor": "white",
                      "ticks": "",
                      "title": {
                        "standoff": 15
                      },
                      "zerolinecolor": "white",
                      "zerolinewidth": 2
                    },
                    "yaxis": {
                      "automargin": true,
                      "gridcolor": "white",
                      "linecolor": "white",
                      "ticks": "",
                      "title": {
                        "standoff": 15
                      },
                      "zerolinecolor": "white",
                      "zerolinewidth": 2
                    }
                  }
                },
                "xaxis": {
                  "anchor": "y",
                  "domain": [
                    0,
                    1
                  ],
                  "title": {
                    "text": "x"
                  }
                },
                "yaxis": {
                  "anchor": "x",
                  "domain": [
                    0,
                    1
                  ],
                  "title": {
                    "text": "y"
                  }
                }
              }
            }
          },
          "metadata": {},
          "output_type": "display_data"
        }
      ],
      "source": [
        "Acc=0\n",
        "Gyro=0\n",
        "other=0\n",
        "for i in X.columns:\n",
        "  if'Acc'in i:\n",
        "    Acc=Acc+1\n",
        "  elif'Gyro'in i:\n",
        "    Gyro=Gyro+1\n",
        "  else:\n",
        "    other=other+1\n",
        "\n",
        "px.bar(x=['Accelerometer ','Gyroscope ','other'],y=[Acc,Gyro,other],color=[Acc,Gyro,other])"
      ]
    },
    {
      "cell_type": "markdown",
      "metadata": {
        "id": "6Xy3R8elTO7a"
      },
      "source": [
        "This tells us that there is more data acquired from the Accelerometer as compared to Gyroscope and other sensors.\n",
        "This accelerometer information should potentially be more significant in the case of dynamic activities such as walking and walking upstairs/downstairs. "
      ]
    },
    {
      "cell_type": "code",
      "execution_count": 6,
      "metadata": {
        "id": "9A2lFh7zLRu7"
      },
      "outputs": [],
      "source": [
        "#Renaming feature names by removing punctuations\n",
        "columns = X.columns\n",
        "\n",
        "# Removing '()' from column names\n",
        "columns = columns.str.replace('[()]','',regex=True)\n",
        "columns = columns.str.replace('[-]', '',regex=True)\n",
        "columns = columns.str.replace('[,]','',regex=True)\n",
        "\n",
        "X.columns = columns\n",
        "X.columns = columns"
      ]
    },
    {
      "cell_type": "code",
      "execution_count": 12,
      "metadata": {
        "colab": {
          "base_uri": "https://localhost:8080/",
          "height": 551
        },
        "id": "tULx7c7-aEKr",
        "outputId": "10aa6a2d-d409-4408-dcbb-49fdaec75715"
      },
      "outputs": [
        {
          "data": {
            "image/png": "[encoded data removed]",
            "text/plain": [
              "<Figure size 504x504 with 1 Axes>"
            ]
          },
          "metadata": {
            "needs_background": "light"
          },
          "output_type": "display_data"
        }
      ],
      "source": [
        "plt.figure(figsize=(7,7))\n",
        "sns.boxplot(x=y.Activity, y=X.tBodyAccMagmean, showfliers=False, saturation=1)\n",
        "plt.ylabel('Acceleration Magnitude mean')\n",
        "plt.axhline(y=-0.7, xmin=0.1, xmax=0.9,dashes=(5,5), c='g')\n",
        "plt.axhline(y=-0.05, xmin=0.4, dashes=(5,5), c='m')\n",
        "plt.xticks(rotation=90)\n",
        "plt.show()"
      ]
    },
    {
      "cell_type": "markdown",
      "metadata": {
        "id": "JWT4CU9za05z"
      },
      "source": [
        "**Observations**\n",
        "\n",
        "\n",
        "*   If tAccMean is < -0.8 then the Activities are either Standing or Sitting or Laying.\n",
        "*   If tAccMean is > -0.6 then the Activities are either Walking or WalkingDownstairs or WalkingUpstairs.\n",
        "*   If tAccMean > 0.0 then the Activity is WalkingDownstairs.\n",
        "\n",
        "As hypothesized, acceleration mean vaules can easily separate the static activities from the dynamic ones. Therefore, this feature seems to be pretty useful.\n",
        "\n",
        "\n",
        "\n"
      ]
    },
    {
      "cell_type": "code",
      "execution_count": 13,
      "metadata": {
        "colab": {
          "base_uri": "https://localhost:8080/",
          "height": 372
        },
        "id": "OExC9vbtc-Op",
        "outputId": "0cb2904f-ea98-4e8b-d01b-6c95d20e87cb"
      },
      "outputs": [
        {
          "data": {
            "image/png": "[encoded data removed]",
            "text/plain": [
              "<Figure size 432x288 with 1 Axes>"
            ]
          },
          "metadata": {
            "needs_background": "light"
          },
          "output_type": "display_data"
        }
      ],
      "source": [
        "sns.boxplot(x=y.Activity, y=X.angleYgravityMean, showfliers=False)\n",
        "plt.title('Angle between Y-axis and Gravity_mean', fontsize=15)\n",
        "plt.xticks(rotation = 40)\n",
        "plt.axhline(y=-0.22, xmin=0.1, xmax=0.8, dashes=(5,3), c='m')\n",
        "plt.show()"
      ]
    },
    {
      "cell_type": "code",
      "execution_count": 14,
      "metadata": {
        "colab": {
          "base_uri": "https://localhost:8080/",
          "height": 372
        },
        "id": "aJwYKRKQbzBu",
        "outputId": "663f7ce1-4132-4e69-893e-da0a073f9711"
      },
      "outputs": [
        {
          "data": {
            "image/png": "[encoded data removed]",
            "text/plain": [
              "<Figure size 432x288 with 1 Axes>"
            ]
          },
          "metadata": {
            "needs_background": "light"
          },
          "output_type": "display_data"
        }
      ],
      "source": [
        "sns.boxplot(x=y.Activity, y=X.angleXgravityMean)\n",
        "plt.axhline(y=0.08, xmin=0.1, xmax=0.9,c='m',dashes=(5,3))\n",
        "plt.title('Angle between X-axis and Gravity_mean', fontsize=15)\n",
        "plt.xticks(rotation = 40)\n",
        "plt.show()"
      ]
    },
    {
      "cell_type": "markdown",
      "metadata": {
        "id": "_xihloVyb8Dq"
      },
      "source": [
        "**Observations**\n",
        "\n",
        "\n",
        "*   If angleX,gravityMean > 0 or angleY,gravityMean < 0.2 then Activity is Laying.\n",
        "*   We can potentially classify all datapoints belonging to Laying activity with just a single if else statement.\n",
        "\n",
        "Therefore, this is another feature that seems to be useful.\n"
      ]
    },
    {
      "cell_type": "markdown",
      "metadata": {
        "id": "1VL5f8R4qZ2Q"
      },
      "source": [
        "# One Hot Encoding\n",
        "In training data, the subject column is categorical.<br/>\n",
        "Our class labels are also categorical."
      ]
    },
    {
      "cell_type": "code",
      "execution_count": 7,
      "metadata": {
        "id": "MHOXePgfjsWw"
      },
      "outputs": [],
      "source": [
        "X[\"subject\"]=X[\"subject\"].apply(str)\n",
        "X[\"subject\"]=X[\"subject\"].apply(str)\n",
        "\n",
        "X=pd.get_dummies(X,columns=[\"subject\"],drop_first=True)\n",
        "X_submit=pd.get_dummies(X_submit,columns=[\"subject\"],drop_first=True)"
      ]
    },
    {
      "cell_type": "code",
      "execution_count": 8,
      "metadata": {
        "colab": {
          "base_uri": "https://localhost:8080/",
          "height": 300
        },
        "id": "BaDTWB0FolcS",
        "outputId": "d84393ea-f3a1-449a-c9dc-d8444b2acdd6"
      },
      "outputs": [
        {
          "data": {
            "text/html": [
              "<div>\n",
              "<style scoped>\n",
              "    .dataframe tbody tr th:only-of-type {\n",
              "        vertical-align: middle;\n",
              "    }\n",
              "\n",
              "    .dataframe tbody tr th {\n",
              "        vertical-align: top;\n",
              "    }\n",
              "\n",
              "    .dataframe thead th {\n",
              "        text-align: right;\n",
              "    }\n",
              "</style>\n",
              "<table border=\"1\" class=\"dataframe\">\n",
              "  <thead>\n",
              "    <tr style=\"text-align: right;\">\n",
              "      <th></th>\n",
              "      <th>tBodyAccmeanX</th>\n",
              "      <th>tBodyAccmeanY</th>\n",
              "      <th>tBodyAccmeanZ</th>\n",
              "      <th>tBodyAccstdX</th>\n",
              "      <th>tBodyAccstdY</th>\n",
              "      <th>tBodyAccstdZ</th>\n",
              "      <th>tBodyAccmadX</th>\n",
              "      <th>tBodyAccmadY</th>\n",
              "      <th>tBodyAccmadZ</th>\n",
              "      <th>tBodyAccmaxX</th>\n",
              "      <th>...</th>\n",
              "      <th>subject_28</th>\n",
              "      <th>subject_29</th>\n",
              "      <th>subject_3</th>\n",
              "      <th>subject_30</th>\n",
              "      <th>subject_4</th>\n",
              "      <th>subject_5</th>\n",
              "      <th>subject_6</th>\n",
              "      <th>subject_7</th>\n",
              "      <th>subject_8</th>\n",
              "      <th>subject_9</th>\n",
              "    </tr>\n",
              "  </thead>\n",
              "  <tbody>\n",
              "    <tr>\n",
              "      <th>356</th>\n",
              "      <td>0.286433</td>\n",
              "      <td>-0.023843</td>\n",
              "      <td>-0.122738</td>\n",
              "      <td>-0.915584</td>\n",
              "      <td>-0.710794</td>\n",
              "      <td>-0.880226</td>\n",
              "      <td>-0.932429</td>\n",
              "      <td>-0.720314</td>\n",
              "      <td>-0.881657</td>\n",
              "      <td>-0.789914</td>\n",
              "      <td>...</td>\n",
              "      <td>0</td>\n",
              "      <td>0</td>\n",
              "      <td>1</td>\n",
              "      <td>0</td>\n",
              "      <td>0</td>\n",
              "      <td>0</td>\n",
              "      <td>0</td>\n",
              "      <td>0</td>\n",
              "      <td>0</td>\n",
              "      <td>0</td>\n",
              "    </tr>\n",
              "    <tr>\n",
              "      <th>4482</th>\n",
              "      <td>0.333258</td>\n",
              "      <td>-0.001307</td>\n",
              "      <td>-0.166581</td>\n",
              "      <td>-0.034498</td>\n",
              "      <td>-0.062471</td>\n",
              "      <td>-0.283268</td>\n",
              "      <td>-0.059698</td>\n",
              "      <td>-0.174912</td>\n",
              "      <td>-0.338661</td>\n",
              "      <td>0.283234</td>\n",
              "      <td>...</td>\n",
              "      <td>0</td>\n",
              "      <td>0</td>\n",
              "      <td>0</td>\n",
              "      <td>0</td>\n",
              "      <td>0</td>\n",
              "      <td>0</td>\n",
              "      <td>0</td>\n",
              "      <td>0</td>\n",
              "      <td>0</td>\n",
              "      <td>0</td>\n",
              "    </tr>\n",
              "    <tr>\n",
              "      <th>10012</th>\n",
              "      <td>0.266797</td>\n",
              "      <td>-0.018683</td>\n",
              "      <td>-0.101142</td>\n",
              "      <td>-0.990874</td>\n",
              "      <td>-0.989001</td>\n",
              "      <td>-0.987255</td>\n",
              "      <td>-0.991659</td>\n",
              "      <td>-0.987859</td>\n",
              "      <td>-0.985430</td>\n",
              "      <td>-0.936624</td>\n",
              "      <td>...</td>\n",
              "      <td>0</td>\n",
              "      <td>0</td>\n",
              "      <td>0</td>\n",
              "      <td>0</td>\n",
              "      <td>0</td>\n",
              "      <td>0</td>\n",
              "      <td>0</td>\n",
              "      <td>0</td>\n",
              "      <td>0</td>\n",
              "      <td>0</td>\n",
              "    </tr>\n",
              "    <tr>\n",
              "      <th>4386</th>\n",
              "      <td>0.276363</td>\n",
              "      <td>-0.020289</td>\n",
              "      <td>-0.113701</td>\n",
              "      <td>-0.995733</td>\n",
              "      <td>-0.939094</td>\n",
              "      <td>-0.984418</td>\n",
              "      <td>-0.997013</td>\n",
              "      <td>-0.936180</td>\n",
              "      <td>-0.983728</td>\n",
              "      <td>-0.938433</td>\n",
              "      <td>...</td>\n",
              "      <td>0</td>\n",
              "      <td>0</td>\n",
              "      <td>0</td>\n",
              "      <td>0</td>\n",
              "      <td>0</td>\n",
              "      <td>0</td>\n",
              "      <td>0</td>\n",
              "      <td>0</td>\n",
              "      <td>0</td>\n",
              "      <td>0</td>\n",
              "    </tr>\n",
              "    <tr>\n",
              "      <th>3751</th>\n",
              "      <td>0.268231</td>\n",
              "      <td>-0.004146</td>\n",
              "      <td>-0.094503</td>\n",
              "      <td>0.473123</td>\n",
              "      <td>0.452403</td>\n",
              "      <td>-0.152600</td>\n",
              "      <td>0.450082</td>\n",
              "      <td>0.482764</td>\n",
              "      <td>-0.239383</td>\n",
              "      <td>0.539911</td>\n",
              "      <td>...</td>\n",
              "      <td>0</td>\n",
              "      <td>0</td>\n",
              "      <td>0</td>\n",
              "      <td>0</td>\n",
              "      <td>0</td>\n",
              "      <td>0</td>\n",
              "      <td>0</td>\n",
              "      <td>0</td>\n",
              "      <td>0</td>\n",
              "      <td>0</td>\n",
              "    </tr>\n",
              "  </tbody>\n",
              "</table>\n",
              "<p>5 rows × 590 columns</p>\n",
              "</div>"
            ],
            "text/plain": [
              "       tBodyAccmeanX  tBodyAccmeanY  tBodyAccmeanZ  tBodyAccstdX  \\\n",
              "356         0.286433      -0.023843      -0.122738     -0.915584   \n",
              "4482        0.333258      -0.001307      -0.166581     -0.034498   \n",
              "10012       0.266797      -0.018683      -0.101142     -0.990874   \n",
              "4386        0.276363      -0.020289      -0.113701     -0.995733   \n",
              "3751        0.268231      -0.004146      -0.094503      0.473123   \n",
              "\n",
              "       tBodyAccstdY  tBodyAccstdZ  tBodyAccmadX  tBodyAccmadY  tBodyAccmadZ  \\\n",
              "356       -0.710794     -0.880226     -0.932429     -0.720314     -0.881657   \n",
              "4482      -0.062471     -0.283268     -0.059698     -0.174912     -0.338661   \n",
              "10012     -0.989001     -0.987255     -0.991659     -0.987859     -0.985430   \n",
              "4386      -0.939094     -0.984418     -0.997013     -0.936180     -0.983728   \n",
              "3751       0.452403     -0.152600      0.450082      0.482764     -0.239383   \n",
              "\n",
              "       tBodyAccmaxX  ...  subject_28  subject_29  subject_3  subject_30  \\\n",
              "356       -0.789914  ...           0           0          1           0   \n",
              "4482       0.283234  ...           0           0          0           0   \n",
              "10012     -0.936624  ...           0           0          0           0   \n",
              "4386      -0.938433  ...           0           0          0           0   \n",
              "3751       0.539911  ...           0           0          0           0   \n",
              "\n",
              "       subject_4  subject_5  subject_6  subject_7  subject_8  subject_9  \n",
              "356            0          0          0          0          0          0  \n",
              "4482           0          0          0          0          0          0  \n",
              "10012          0          0          0          0          0          0  \n",
              "4386           0          0          0          0          0          0  \n",
              "3751           0          0          0          0          0          0  \n",
              "\n",
              "[5 rows x 590 columns]"
            ]
          },
          "execution_count": 8,
          "metadata": {},
          "output_type": "execute_result"
        }
      ],
      "source": [
        "X.head()"
      ]
    },
    {
      "cell_type": "markdown",
      "metadata": {
        "id": "9SrVFLSMdk4v"
      },
      "source": [
        "# Filter Based Feature Selection"
      ]
    },
    {
      "cell_type": "markdown",
      "metadata": {
        "id": "AneQFk_u9dh7"
      },
      "source": [
        "## Pearson Correlation\n"
      ]
    },
    {
      "cell_type": "markdown",
      "metadata": {
        "id": "nW4Bd2K09xqY"
      },
      "source": [
        "Selected only those columns whose pearson correlation with the target variable doesnt lie in between -0.3 and 0.3"
      ]
    },
    {
      "cell_type": "code",
      "execution_count": 17,
      "metadata": {
        "id": "muRJNEbC2Olj"
      },
      "outputs": [
        {
          "data": {
            "text/plain": [
              "'\\ntemp=pd.concat((X,y),axis=1).corr(method=\"pearson\")[\"Activity\"].abs()>0.3\\npearson_corr_columns=temp[temp.apply(sum, axis=1)>0].transpose().drop([\\'Activity_LAYING\\', \\'Activity_SITTING\\', \\'Activity_STANDING\\', \\'Activity_WALKING\\', \\'Activity_WALKING_DOWNSTAIRS\\', \\'Activity_WALKING_UPSTAIRS\\'],axis=1).columns\\nX[pearson_corr_columns].shape\\n'"
            ]
          },
          "execution_count": 17,
          "metadata": {},
          "output_type": "execute_result"
        }
      ],
      "source": [
        "'''\n",
        "temp=pd.concat((X,y),axis=1).corr(method=\"pearson\")[\"Activity\"].abs()>0.3\n",
        "pearson_corr_columns=temp[temp.apply(sum, axis=1)>0].transpose().drop(['Activity_LAYING', 'Activity_SITTING', 'Activity_STANDING', 'Activity_WALKING', 'Activity_WALKING_DOWNSTAIRS', 'Activity_WALKING_UPSTAIRS'],axis=1).columns\n",
        "X[pearson_corr_columns].shape\n",
        "'''"
      ]
    },
    {
      "cell_type": "markdown",
      "metadata": {
        "id": "2EG63Qag_O4I"
      },
      "source": [
        "## Anova Test"
      ]
    },
    {
      "cell_type": "code",
      "execution_count": 18,
      "metadata": {
        "colab": {
          "base_uri": "https://localhost:8080/"
        },
        "id": "JxjXJIXH_UHX",
        "outputId": "ba3c7949-a778-48f6-8c88-0b04329cef3c"
      },
      "outputs": [
        {
          "data": {
            "text/plain": [
              "'\\nfrom sklearn.feature_selection import SelectKBest, f_classif\\n\\ndef anova_test(no_features):\\n  selector=SelectKBest(f_classif,k=no_features)\\n  col_num=selector.fit(X_train,y_numeric[\"Activity\"]).get_support(indices=True)\\n  return X_train.columns[col_num]\\n\\nX[anova_test(10)].shape\\n'"
            ]
          },
          "execution_count": 18,
          "metadata": {},
          "output_type": "execute_result"
        }
      ],
      "source": [
        "'''\n",
        "from sklearn.feature_selection import SelectKBest, f_classif\n",
        "\n",
        "def anova_test(no_features):\n",
        "  selector=SelectKBest(f_classif,k=no_features)\n",
        "  col_num=selector.fit(X_train,y_numeric[\"Activity\"]).get_support(indices=True)\n",
        "  return X_train.columns[col_num]\n",
        "\n",
        "X[anova_test(10)].shape\n",
        "'''"
      ]
    },
    {
      "cell_type": "markdown",
      "metadata": {
        "id": "PN6u8QQZU_Ql"
      },
      "source": [
        "# Train-Test split"
      ]
    },
    {
      "cell_type": "code",
      "execution_count": 9,
      "metadata": {
        "id": "G6f287MoVDbo"
      },
      "outputs": [],
      "source": [
        "from sklearn.model_selection import train_test_split\n",
        "\n",
        "X_train, X_test, y_train, y_test = train_test_split(X, y[\"Activity\"], test_size=0.3, random_state=42)"
      ]
    },
    {
      "cell_type": "markdown",
      "metadata": {
        "id": "1sjwrPM4FDkR"
      },
      "source": [
        "# Logistic Regression"
      ]
    },
    {
      "cell_type": "code",
      "execution_count": 10,
      "metadata": {
        "colab": {
          "base_uri": "https://localhost:8080/",
          "height": 363
        },
        "id": "cA2fbTm1FGLD",
        "outputId": "1a7b20d6-96d7-4993-eb15-bcbb02cdcacb"
      },
      "outputs": [
        {
          "name": "stdout",
          "output_type": "stream",
          "text": [
            "Fitting 3 folds for each of 50 candidates, totalling 150 fits\n"
          ]
        }
      ],
      "source": [
        "from sklearn.linear_model import LogisticRegression\n",
        "\n",
        "lr_model=LogisticRegression(solver=\"saga\",multi_class=\"ovr\",max_iter=10000,penalty=\"elasticnet\",n_jobs=-1,verbose=1)\n",
        "\n",
        "penalty=[\"none\",\"elasticnet\"]\n",
        "l1_ratio=np.linspace(0,1,5)\n",
        "c=np.logspace(0,10,5)\n",
        "param_grid_lr={\"penalty\":penalty,\"l1_ratio\":l1_ratio,\"C\":c}\n",
        "\n",
        "grid_model_lr=GridSearchCV(lr_model,param_grid=param_grid_lr,n_jobs=-1,verbose=3,scoring=\"accuracy\",cv=3)\n",
        "\n",
        "grid_model_lr.fit(X_train,y_train)"
      ]
    },
    {
      "cell_type": "code",
      "execution_count": null,
      "metadata": {},
      "outputs": [],
      "source": [
        "grid_model_lr.best_estimator_"
      ]
    },
    {
      "cell_type": "code",
      "execution_count": null,
      "metadata": {},
      "outputs": [
        {
          "name": "stdout",
          "output_type": "stream",
          "text": [
            "Accuracy =  0.9846278317152104\n",
            "                    precision    recall  f1-score   support\n",
            "\n",
            "            LAYING       1.00      1.00      1.00       457\n",
            "           SITTING       0.97      0.95      0.96       455\n",
            "          STANDING       0.95      0.97      0.96       465\n",
            "           WALKING       1.00      1.00      1.00       389\n",
            "WALKING_DOWNSTAIRS       1.00      1.00      1.00       331\n",
            "  WALKING_UPSTAIRS       1.00      1.00      1.00       375\n",
            "\n",
            "          accuracy                           0.98      2472\n",
            "         macro avg       0.99      0.99      0.99      2472\n",
            "      weighted avg       0.98      0.98      0.98      2472\n",
            "\n"
          ]
        }
      ],
      "source": [
        "pred_knn=grid_model_lr.predict(X_test)\n",
        "\n",
        "print(\"Accuracy = \", accuracy_score(y_test,pred_knn))\n",
        "print(\"/n\",classification_report(y_test,pred_knn))"
      ]
    },
    {
      "cell_type": "markdown",
      "metadata": {},
      "source": [
        "# K-Neighbours Classification"
      ]
    },
    {
      "cell_type": "code",
      "execution_count": 5,
      "metadata": {},
      "outputs": [
        {
          "name": "stdout",
          "output_type": "stream",
          "text": [
            "Fitting 3 folds for each of 600 candidates, totalling 1800 fits\n"
          ]
        },
        {
          "data": {
            "text/plain": [
              "GridSearchCV(cv=3, estimator=KNeighborsClassifier(n_jobs=-1), n_jobs=-1,\n",
              "             param_grid={'metric': ['euclidean', 'manhattan', 'chebyshev'],\n",
              "                         'n_neighbors': array([  1,   2,   3,   4,   5,   6,   7,   8,   9,  10,  11,  12,  13,\n",
              "        14,  15,  16,  17,  18,  19,  20,  21,  22,  23,  24,  25,  26,\n",
              "        27,  28,  29,  30,  31,  32,  33,  34,  35,  36,  37,  38,  39,\n",
              "        40,  41,  42,  43,  44,  45,  46,  47,  48,  49,  50,  51,  52,\n",
              "        53,  54,  55,  56,  57,  58,  59,  60,  61,  62,  63,  64,  65,\n",
              "        66,  67,  68,  69,  70,  71,  72,  73,  74,  75,  76,  77,  78,\n",
              "        79,  80,  81,  82,  83,  84,  85,  86,  87,  88,  89,  90,  91,\n",
              "        92,  93,  94,  95,  96,  97,  98,  99, 100]),\n",
              "                         'weights': ['uniform', 'distance']},\n",
              "             scoring='accuracy', verbose=3)"
            ]
          },
          "execution_count": 5,
          "metadata": {},
          "output_type": "execute_result"
        }
      ],
      "source": [
        "from sklearn.neighbors import KNeighborsClassifier\n",
        "\n",
        "knn_model=KNeighborsClassifier(n_jobs=-1)\n",
        "\n",
        "n_neighbors=np.arange(1,101)\n",
        "weights=['uniform', 'distance']\n",
        "metric=[\"euclidean\",\"manhattan\",\"chebyshev\"]\n",
        "param_grid_knn={\"n_neighbors\":n_neighbors,\"weights\":weights,\"metric\":metric}\n",
        "\n",
        "grid_model_knn=GridSearchCV(knn_model,param_grid=param_grid_knn,n_jobs=-1,verbose=3,scoring=\"accuracy\",cv=3)\n",
        "\n",
        "grid_model_knn.fit(X_train,y_train)"
      ]
    },
    {
      "cell_type": "code",
      "execution_count": 7,
      "metadata": {},
      "outputs": [
        {
          "data": {
            "text/plain": [
              "KNeighborsClassifier(metric='manhattan', n_jobs=-1, n_neighbors=4,\n",
              "                     weights='distance')"
            ]
          },
          "execution_count": 7,
          "metadata": {},
          "output_type": "execute_result"
        }
      ],
      "source": [
        "grid_model_knn.best_estimator_"
      ]
    },
    {
      "cell_type": "code",
      "execution_count": 8,
      "metadata": {},
      "outputs": [
        {
          "name": "stdout",
          "output_type": "stream",
          "text": [
            "Accuracy =  0.9805825242718447\n",
            "/n                     precision    recall  f1-score   support\n",
            "\n",
            "            LAYING       1.00      1.00      1.00       457\n",
            "           SITTING       0.96      0.94      0.95       455\n",
            "          STANDING       0.94      0.96      0.95       465\n",
            "           WALKING       1.00      1.00      1.00       389\n",
            "WALKING_DOWNSTAIRS       1.00      1.00      1.00       331\n",
            "  WALKING_UPSTAIRS       0.99      1.00      1.00       375\n",
            "\n",
            "          accuracy                           0.98      2472\n",
            "         macro avg       0.98      0.98      0.98      2472\n",
            "      weighted avg       0.98      0.98      0.98      2472\n",
            "\n"
          ]
        }
      ],
      "source": [
        "pred_knn=grid_model_knn.predict(X_test)\n",
        "\n",
        "print(\"Accuracy = \", accuracy_score(y_test,pred_knn))\n",
        "print(\"/n\",classification_report(y_test,pred_knn))"
      ]
    },
    {
      "cell_type": "markdown",
      "metadata": {},
      "source": [
        "# Support Vector Machines"
      ]
    },
    {
      "cell_type": "code",
      "execution_count": null,
      "metadata": {},
      "outputs": [],
      "source": []
    }
  ],
  "metadata": {
    "colab": {
      "collapsed_sections": [],
      "name": "Human Activity Recognition using Smartphone Data.ipynb",
      "provenance": []
    },
    "kernelspec": {
      "display_name": "Python 3",
      "name": "python3"
    },
    "language_info": {
      "codemirror_mode": {
        "name": "ipython",
        "version": 3
      },
      "file_extension": ".py",
      "mimetype": "text/x-python",
      "name": "python",
      "nbconvert_exporter": "python",
      "pygments_lexer": "ipython3",
      "version": "3.9.7"
    }
  },
  "nbformat": 4,
  "nbformat_minor": 0
}
